{
 "cells": [
  {
   "attachments": {},
   "cell_type": "markdown",
   "metadata": {},
   "source": [
    "### CSIS 44-608 Data Analytics Fundamentals\n",
    "#### Summer 2023 OP1\n",
    "\n",
    "### Project 6 - Data analytics Projects\n",
    "\n",
    "### Author: Bambee Garfield\n",
    "#### Date: June 16th, 2023\n"
   ]
  },
  {
   "attachments": {},
   "cell_type": "markdown",
   "metadata": {},
   "source": [
    "#### Task 3 - Exploratory Data Project"
   ]
  },
  {
   "attachments": {},
   "cell_type": "markdown",
   "metadata": {},
   "source": [
    "###### This project will review dogs breeds and the traits the are inherent to different breeds. We will evaulate colors, average height, characteristics and common health problems. This dataset was retrieved from https://www.kaggle.com/datasets/marshuu/dog-breeds on June 15th, 2023. It contains a list of 117 different dog breeds. \n",
    "\n",
    "###### The first thing we did was to review and clean up the data. We removed 14 breeds that were listed more than once. Corrected numberic ranges that appeared as dates and separated these ranges into their upper and lower ranges for reivew. "
   ]
  },
  {
   "cell_type": "code",
   "execution_count": 32,
   "metadata": {},
   "outputs": [],
   "source": [
    "# Importing file for analyis\n",
    "\n",
    "import pandas as pd\n",
    "import matplotlib.pyplot as plt\n",
    "\n",
    "doggies = pd.read_csv('dog_breeds.csv', index_col=0)"
   ]
  },
  {
   "attachments": {},
   "cell_type": "markdown",
   "metadata": {},
   "source": [
    "##### First, let's take a look at a sampling of the data to get an understanding of what is included in our dataset.  "
   ]
  },
  {
   "cell_type": "code",
   "execution_count": 33,
   "metadata": {},
   "outputs": [
    {
     "data": {
      "text/html": [
       "<div>\n",
       "<style scoped>\n",
       "    .dataframe tbody tr th:only-of-type {\n",
       "        vertical-align: middle;\n",
       "    }\n",
       "\n",
       "    .dataframe tbody tr th {\n",
       "        vertical-align: top;\n",
       "    }\n",
       "\n",
       "    .dataframe thead th {\n",
       "        text-align: right;\n",
       "    }\n",
       "</style>\n",
       "<table border=\"1\" class=\"dataframe\">\n",
       "  <thead>\n",
       "    <tr style=\"text-align: right;\">\n",
       "      <th></th>\n",
       "      <th>Country_of_Origin</th>\n",
       "      <th>Main_Fur_Color</th>\n",
       "      <th>2nd_Fur_Color</th>\n",
       "      <th>3rd_Fur_Color</th>\n",
       "      <th>4th_Fur_Color</th>\n",
       "      <th>Low_Height</th>\n",
       "      <th>Upper_Height</th>\n",
       "      <th>Main_Eye_Color</th>\n",
       "      <th>Secondary_Eye_Color</th>\n",
       "      <th>Longevity_(Min)</th>\n",
       "      <th>Longevity_(Max)</th>\n",
       "      <th>Character_Traits</th>\n",
       "      <th>Common_Health_Problems</th>\n",
       "    </tr>\n",
       "    <tr>\n",
       "      <th>Breed</th>\n",
       "      <th></th>\n",
       "      <th></th>\n",
       "      <th></th>\n",
       "      <th></th>\n",
       "      <th></th>\n",
       "      <th></th>\n",
       "      <th></th>\n",
       "      <th></th>\n",
       "      <th></th>\n",
       "      <th></th>\n",
       "      <th></th>\n",
       "      <th></th>\n",
       "      <th></th>\n",
       "    </tr>\n",
       "  </thead>\n",
       "  <tbody>\n",
       "    <tr>\n",
       "      <th>Irish Wolfhound</th>\n",
       "      <td>Ireland</td>\n",
       "      <td>Grey</td>\n",
       "      <td>Red</td>\n",
       "      <td>Black</td>\n",
       "      <td>NaN</td>\n",
       "      <td>30.0</td>\n",
       "      <td>35.0</td>\n",
       "      <td>Brown</td>\n",
       "      <td>NaN</td>\n",
       "      <td>6.0</td>\n",
       "      <td>8.0</td>\n",
       "      <td>Gentle, loyal, intelligent, good-natured</td>\n",
       "      <td>Hip dysplasia, heart conditions, cancer</td>\n",
       "    </tr>\n",
       "    <tr>\n",
       "      <th>German Shepherd</th>\n",
       "      <td>Germany</td>\n",
       "      <td>Black</td>\n",
       "      <td>Tan</td>\n",
       "      <td>NaN</td>\n",
       "      <td>NaN</td>\n",
       "      <td>22.0</td>\n",
       "      <td>26.0</td>\n",
       "      <td>Brown</td>\n",
       "      <td>NaN</td>\n",
       "      <td>7.0</td>\n",
       "      <td>10.0</td>\n",
       "      <td>Loyal, intelligent, protective, confident, tra...</td>\n",
       "      <td>Hip dysplasia, elbow dysplasia, pancreatitis</td>\n",
       "    </tr>\n",
       "    <tr>\n",
       "      <th>Bulldog</th>\n",
       "      <td>England</td>\n",
       "      <td>White</td>\n",
       "      <td>Red</td>\n",
       "      <td>NaN</td>\n",
       "      <td>NaN</td>\n",
       "      <td>12.0</td>\n",
       "      <td>16.0</td>\n",
       "      <td>Brown</td>\n",
       "      <td>NaN</td>\n",
       "      <td>8.0</td>\n",
       "      <td>10.0</td>\n",
       "      <td>Loyal, calm, gentle, brave</td>\n",
       "      <td>Skin allergies, respiratory issues, obesity</td>\n",
       "    </tr>\n",
       "    <tr>\n",
       "      <th>Rottweiler</th>\n",
       "      <td>Germany</td>\n",
       "      <td>Black</td>\n",
       "      <td>Tan</td>\n",
       "      <td>NaN</td>\n",
       "      <td>NaN</td>\n",
       "      <td>22.0</td>\n",
       "      <td>27.0</td>\n",
       "      <td>Brown</td>\n",
       "      <td>NaN</td>\n",
       "      <td>8.0</td>\n",
       "      <td>10.0</td>\n",
       "      <td>Loyal, protective, confident, strong</td>\n",
       "      <td>Hip dysplasia, cancer, elbow dysplasia</td>\n",
       "    </tr>\n",
       "    <tr>\n",
       "      <th>Great Dane</th>\n",
       "      <td>Germany</td>\n",
       "      <td>Black</td>\n",
       "      <td>Blue</td>\n",
       "      <td>Fawn</td>\n",
       "      <td>Harlequin</td>\n",
       "      <td>28.0</td>\n",
       "      <td>34.0</td>\n",
       "      <td>Brown</td>\n",
       "      <td>NaN</td>\n",
       "      <td>8.0</td>\n",
       "      <td>10.0</td>\n",
       "      <td>Gentle, loyal, intelligent, good-natured</td>\n",
       "      <td>Hip dysplasia, cancer, heart conditions</td>\n",
       "    </tr>\n",
       "  </tbody>\n",
       "</table>\n",
       "</div>"
      ],
      "text/plain": [
       "                Country_of_Origin Main_Fur_Color 2nd_Fur_Color 3rd_Fur_Color  \\\n",
       "Breed                                                                          \n",
       "Irish Wolfhound           Ireland           Grey           Red         Black   \n",
       "German Shepherd           Germany          Black           Tan           NaN   \n",
       "Bulldog                   England          White           Red           NaN   \n",
       "Rottweiler                Germany          Black           Tan           NaN   \n",
       "Great Dane                Germany          Black          Blue          Fawn   \n",
       "\n",
       "                4th_Fur_Color  Low_Height  Upper_Height Main_Eye_Color  \\\n",
       "Breed                                                                    \n",
       "Irish Wolfhound           NaN        30.0          35.0          Brown   \n",
       "German Shepherd           NaN        22.0          26.0          Brown   \n",
       "Bulldog                   NaN        12.0          16.0          Brown   \n",
       "Rottweiler                NaN        22.0          27.0          Brown   \n",
       "Great Dane          Harlequin        28.0          34.0          Brown   \n",
       "\n",
       "                Secondary_Eye_Color  Longevity_(Min)  Longevity_(Max)  \\\n",
       "Breed                                                                   \n",
       "Irish Wolfhound                 NaN              6.0              8.0   \n",
       "German Shepherd                 NaN              7.0             10.0   \n",
       "Bulldog                         NaN              8.0             10.0   \n",
       "Rottweiler                      NaN              8.0             10.0   \n",
       "Great Dane                      NaN              8.0             10.0   \n",
       "\n",
       "                                                  Character_Traits  \\\n",
       "Breed                                                                \n",
       "Irish Wolfhound           Gentle, loyal, intelligent, good-natured   \n",
       "German Shepherd  Loyal, intelligent, protective, confident, tra...   \n",
       "Bulldog                                 Loyal, calm, gentle, brave   \n",
       "Rottweiler                    Loyal, protective, confident, strong   \n",
       "Great Dane                Gentle, loyal, intelligent, good-natured   \n",
       "\n",
       "                                       Common_Health_Problems  \n",
       "Breed                                                          \n",
       "Irish Wolfhound       Hip dysplasia, heart conditions, cancer  \n",
       "German Shepherd  Hip dysplasia, elbow dysplasia, pancreatitis  \n",
       "Bulldog           Skin allergies, respiratory issues, obesity  \n",
       "Rottweiler             Hip dysplasia, cancer, elbow dysplasia  \n",
       "Great Dane            Hip dysplasia, cancer, heart conditions  "
      ]
     },
     "execution_count": 33,
     "metadata": {},
     "output_type": "execute_result"
    }
   ],
   "source": [
    "# First 5 rows\n",
    "\n",
    "doggies.head(5)"
   ]
  },
  {
   "attachments": {},
   "cell_type": "markdown",
   "metadata": {},
   "source": [
    "##### To begin reviewing the data, we will take a look at the counts in each column."
   ]
  },
  {
   "cell_type": "code",
   "execution_count": 34,
   "metadata": {},
   "outputs": [
    {
     "data": {
      "text/plain": [
       "Country_of_Origin         103\n",
       "Main_Fur_Color            103\n",
       "2nd_Fur_Color              86\n",
       "3rd_Fur_Color              31\n",
       "4th_Fur_Color               8\n",
       "Low_Height                103\n",
       "Upper_Height              103\n",
       "Main_Eye_Color            103\n",
       "Secondary_Eye_Color         7\n",
       "Longevity_(Min)           103\n",
       "Longevity_(Max)           103\n",
       "Character_Traits          103\n",
       "Common_Health_Problems    103\n",
       "dtype: int64"
      ]
     },
     "execution_count": 34,
     "metadata": {},
     "output_type": "execute_result"
    }
   ],
   "source": [
    "doggies.count()"
   ]
  },
  {
   "attachments": {},
   "cell_type": "markdown",
   "metadata": {},
   "source": [
    "#### Then we'll look at the different countries of origin. "
   ]
  },
  {
   "cell_type": "code",
   "execution_count": 35,
   "metadata": {},
   "outputs": [
    {
     "data": {
      "text/plain": [
       "array(['Ireland', 'Germany', 'England', 'Switzerland', 'Scotland',\n",
       "       'China', 'Canada', 'France', 'Rhodesia', 'United States', 'Russia',\n",
       "       'Italy', 'Hungary', 'Japan', 'Wales', 'Australia', 'Madagascar',\n",
       "       'Belgium', 'Middle East', 'Turkey', 'Malta', 'Tibet', 'Mexico',\n",
       "       'Finland', 'Netherlands', 'Africa', 'Congo', nan], dtype=object)"
      ]
     },
     "execution_count": 35,
     "metadata": {},
     "output_type": "execute_result"
    }
   ],
   "source": [
    "# Country of Origin list\n",
    "doggies[\"Country_of_Origin\"].unique()"
   ]
  },
  {
   "attachments": {},
   "cell_type": "markdown",
   "metadata": {},
   "source": [
    "##### Now let's look at traits and see which appear the most in each category"
   ]
  },
  {
   "cell_type": "code",
   "execution_count": 36,
   "metadata": {},
   "outputs": [
    {
     "data": {
      "text/plain": [
       "Main_Fur_Color\n",
       "Black      32\n",
       "White      23\n",
       "Red        19\n",
       "Blue        6\n",
       "Fawn        5\n",
       "Brown       4\n",
       "Cream       2\n",
       "Liver       2\n",
       "Grey        1\n",
       "Orange      1\n",
       "Merle       1\n",
       "Sable       1\n",
       "Golden      1\n",
       "Light       1\n",
       "Silver      1\n",
       "Yellow      1\n",
       "Apricot     1\n",
       "Pink        1\n",
       "Name: count, dtype: int64"
      ]
     },
     "execution_count": 36,
     "metadata": {},
     "output_type": "execute_result"
    }
   ],
   "source": [
    "# Count of main fur color\n",
    "doggies['Main_Fur_Color'].value_counts()"
   ]
  },
  {
   "cell_type": "code",
   "execution_count": 37,
   "metadata": {},
   "outputs": [
    {
     "data": {
      "text/plain": [
       "Main_Eye_Color\n",
       "Brown    101\n",
       "Blue       2\n",
       "Name: count, dtype: int64"
      ]
     },
     "execution_count": 37,
     "metadata": {},
     "output_type": "execute_result"
    }
   ],
   "source": [
    "# Count of main eye color\n",
    "doggies['Main_Eye_Color'].value_counts()"
   ]
  },
  {
   "attachments": {},
   "cell_type": "markdown",
   "metadata": {},
   "source": [
    "##### Let's review the averages on the upper and lower end of height."
   ]
  },
  {
   "cell_type": "code",
   "execution_count": 38,
   "metadata": {},
   "outputs": [
    {
     "name": "stdout",
     "output_type": "stream",
     "text": [
      "The average low height is 16.88 inches.\n",
      "The average upper height is 20.11 inches.\n"
     ]
    }
   ],
   "source": [
    "# Using mean to get average heights\n",
    "doggies_lwht = doggies['Low_Height'].mean()\n",
    "doggies_upht = doggies['Upper_Height'].mean()\n",
    "print(f'The average low height is {doggies_lwht:.2f} inches.')\n",
    "print(f'The average upper height is {doggies_upht:.2f} inches.')"
   ]
  },
  {
   "attachments": {},
   "cell_type": "markdown",
   "metadata": {},
   "source": [
    "##### Now, we'll do the same thing with the upper, lower and total life span. "
   ]
  },
  {
   "cell_type": "code",
   "execution_count": 39,
   "metadata": {},
   "outputs": [
    {
     "name": "stdout",
     "output_type": "stream",
     "text": [
      "The low end average lifesapn is 11.2 years.\n",
      "The upper end average lifespan is 13.7 years.\n",
      "The average lifespan is 25.0 years.\n"
     ]
    }
   ],
   "source": [
    "# Using mean to get average longevity\n",
    "doggies_lwlg = doggies['Longevity_(Min)'].mean()\n",
    "doggies_uplg = doggies['Longevity_(Max)'].mean()\n",
    "doggies_lifespan = doggies['Longevity_(Min)'] + doggies['Longevity_(Max)']\n",
    "lifespan = doggies_lifespan.mean()\n",
    "print(f'The low end average lifesapn is {doggies_lwlg:.1f} years.')\n",
    "print(f'The upper end average lifespan is {doggies_uplg:.1f} years.')\n",
    "print(f'The average lifespan is {lifespan:.1f} years.')"
   ]
  },
  {
   "attachments": {},
   "cell_type": "markdown",
   "metadata": {},
   "source": [
    "##### Let's take a look at these visually."
   ]
  },
  {
   "cell_type": "code",
   "execution_count": 40,
   "metadata": {},
   "outputs": [
    {
     "data": {
      "image/png": "[encoded data removed]",
      "text/plain": [
       "<Figure size 1000x1000 with 4 Axes>"
      ]
     },
     "metadata": {},
     "output_type": "display_data"
    }
   ],
   "source": [
    "doggies.hist(bins=50, figsize=(10,10))\n",
    "plt.show()"
   ]
  },
  {
   "cell_type": "code",
   "execution_count": null,
   "metadata": {},
   "outputs": [],
   "source": []
  }
 ],
 "metadata": {
  "kernelspec": {
   "display_name": "Python 3",
   "language": "python",
   "name": "python3"
  },
  "language_info": {
   "codemirror_mode": {
    "name": "ipython",
    "version": 3
   },
   "file_extension": ".py",
   "mimetype": "text/x-python",
   "name": "python",
   "nbconvert_exporter": "python",
   "pygments_lexer": "ipython3",
   "version": "3.11.3"
  },
  "orig_nbformat": 4
 },
 "nbformat": 4,
 "nbformat_minor": 2
}
